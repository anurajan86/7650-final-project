{
 "cells": [
  {
   "cell_type": "markdown",
   "id": "bfd7f1f7",
   "metadata": {},
   "source": [
    "# Dataset Preparation\n",
    "* Dataset is IMDB Movie Reviews\n",
    "* Data can be found at https://www.kaggle.com/code/badnick/spoilerdetector"
   ]
  },
  {
   "cell_type": "markdown",
   "id": "5d661ae1",
   "metadata": {},
   "source": [
    "## Glove Embeddings\n",
    "* Glove embeddings file can be downloaded at the following link: https://nlp.stanford.edu/projects/glove/\n",
    "* Download the file called glove.6B.zip\n",
    "* Expand the downloaded zip and use the file called \"glove.6B.300d.txt\""
   ]
  },
  {
   "cell_type": "code",
   "execution_count": 18,
   "id": "7ea2fdd7",
   "metadata": {},
   "outputs": [],
   "source": [
    "import numpy as np\n",
    "import pandas as pd\n",
    "import time\n",
    "import matplotlib.pyplot as plt\n",
    "%matplotlib inline\n",
    "\n",
    "import nltk\n",
    "from nltk.corpus import stopwords\n",
    "from nltk.tokenize import word_tokenize\n",
    "from nltk.stem.porter import PorterStemmer"
   ]
  },
  {
   "cell_type": "code",
   "execution_count": 6,
   "id": "00cf2cde",
   "metadata": {},
   "outputs": [],
   "source": [
    "# nltk.download('wordnet')\n",
    "# nltk.download('averaged_perceptron_tagger')\n",
    "# nltk.download('stopwords')\n",
    "# nltk.download('punkt')\n",
    "# nltk.download('words')"
   ]
  },
  {
   "cell_type": "code",
   "execution_count": 8,
   "id": "9d7c4d53",
   "metadata": {},
   "outputs": [
    {
     "name": "stderr",
     "output_type": "stream",
     "text": [
      "/Users/anuraag_govindarajan/opt/anaconda3/lib/python3.8/site-packages/IPython/core/interactiveshell.py:3165: DtypeWarning: Columns (4) have mixed types.Specify dtype option on import or set low_memory=False.\n",
      "  has_raised = await self.run_ast_nodes(code_ast.body, cell_name,\n"
     ]
    }
   ],
   "source": [
    "# Will take a little over a minute to load\n",
    "full_df = pd.read_csv(\"../cleaned_reviews_summaries.zip\")"
   ]
  },
  {
   "cell_type": "markdown",
   "id": "21ecb945",
   "metadata": {},
   "source": [
    "## Generate Vocab and Embeddings"
   ]
  },
  {
   "cell_type": "code",
   "execution_count": 9,
   "id": "03121db8",
   "metadata": {},
   "outputs": [],
   "source": [
    "from sklearn.model_selection import train_test_split\n",
    "import torch"
   ]
  },
  {
   "cell_type": "code",
   "execution_count": 10,
   "id": "8f4abc71",
   "metadata": {},
   "outputs": [
    {
     "data": {
      "text/html": [
       "<div>\n",
       "<style scoped>\n",
       "    .dataframe tbody tr th:only-of-type {\n",
       "        vertical-align: middle;\n",
       "    }\n",
       "\n",
       "    .dataframe tbody tr th {\n",
       "        vertical-align: top;\n",
       "    }\n",
       "\n",
       "    .dataframe thead th {\n",
       "        text-align: right;\n",
       "    }\n",
       "</style>\n",
       "<table border=\"1\" class=\"dataframe\">\n",
       "  <thead>\n",
       "    <tr style=\"text-align: right;\">\n",
       "      <th></th>\n",
       "      <th>Unnamed: 0</th>\n",
       "      <th>review_date</th>\n",
       "      <th>movie_id</th>\n",
       "      <th>user_id</th>\n",
       "      <th>is_spoiler</th>\n",
       "      <th>review_text</th>\n",
       "      <th>rating_x</th>\n",
       "      <th>review_summary</th>\n",
       "      <th>plot_summary</th>\n",
       "      <th>duration</th>\n",
       "      <th>genre</th>\n",
       "      <th>rating_y</th>\n",
       "      <th>release_date</th>\n",
       "      <th>plot_synopsis</th>\n",
       "      <th>cleaned_summaries</th>\n",
       "      <th>cleaned_reviews</th>\n",
       "    </tr>\n",
       "  </thead>\n",
       "  <tbody>\n",
       "    <tr>\n",
       "      <th>0</th>\n",
       "      <td>0</td>\n",
       "      <td>10 February 2006</td>\n",
       "      <td>tt0111161</td>\n",
       "      <td>ur1898687</td>\n",
       "      <td>True</td>\n",
       "      <td>In its Oscar year, Shawshank Redemption (writt...</td>\n",
       "      <td>10.0</td>\n",
       "      <td>A classic piece of unforgettable film-making.</td>\n",
       "      <td>Chronicles the experiences of a formerly succe...</td>\n",
       "      <td>2h 22min</td>\n",
       "      <td>['Crime', 'Drama']</td>\n",
       "      <td>9.3</td>\n",
       "      <td>1994-10-14</td>\n",
       "      <td>In 1947, Andy Dufresne (Tim Robbins), a banker...</td>\n",
       "      <td>chronicles experiences formerly successful ban...</td>\n",
       "      <td>oscar year shawshank redemption written direct...</td>\n",
       "    </tr>\n",
       "    <tr>\n",
       "      <th>1</th>\n",
       "      <td>1</td>\n",
       "      <td>6 September 2000</td>\n",
       "      <td>tt0111161</td>\n",
       "      <td>ur0842118</td>\n",
       "      <td>True</td>\n",
       "      <td>The Shawshank Redemption is without a doubt on...</td>\n",
       "      <td>10.0</td>\n",
       "      <td>Simply amazing. The best film of the 90's.</td>\n",
       "      <td>Chronicles the experiences of a formerly succe...</td>\n",
       "      <td>2h 22min</td>\n",
       "      <td>['Crime', 'Drama']</td>\n",
       "      <td>9.3</td>\n",
       "      <td>1994-10-14</td>\n",
       "      <td>In 1947, Andy Dufresne (Tim Robbins), a banker...</td>\n",
       "      <td>chronicles experiences formerly successful ban...</td>\n",
       "      <td>shawshank redemption without doubt one brillia...</td>\n",
       "    </tr>\n",
       "    <tr>\n",
       "      <th>2</th>\n",
       "      <td>2</td>\n",
       "      <td>3 August 2001</td>\n",
       "      <td>tt0111161</td>\n",
       "      <td>ur1285640</td>\n",
       "      <td>True</td>\n",
       "      <td>I believe that this film is the best story eve...</td>\n",
       "      <td>8.0</td>\n",
       "      <td>The best story ever told on film</td>\n",
       "      <td>Chronicles the experiences of a formerly succe...</td>\n",
       "      <td>2h 22min</td>\n",
       "      <td>['Crime', 'Drama']</td>\n",
       "      <td>9.3</td>\n",
       "      <td>1994-10-14</td>\n",
       "      <td>In 1947, Andy Dufresne (Tim Robbins), a banker...</td>\n",
       "      <td>chronicles experiences formerly successful ban...</td>\n",
       "      <td>believe film best story ever told film tell wh...</td>\n",
       "    </tr>\n",
       "    <tr>\n",
       "      <th>3</th>\n",
       "      <td>3</td>\n",
       "      <td>1 September 2002</td>\n",
       "      <td>tt0111161</td>\n",
       "      <td>ur1003471</td>\n",
       "      <td>True</td>\n",
       "      <td>**Yes, there are SPOILERS here**This film has ...</td>\n",
       "      <td>10.0</td>\n",
       "      <td>Busy dying or busy living?</td>\n",
       "      <td>Chronicles the experiences of a formerly succe...</td>\n",
       "      <td>2h 22min</td>\n",
       "      <td>['Crime', 'Drama']</td>\n",
       "      <td>9.3</td>\n",
       "      <td>1994-10-14</td>\n",
       "      <td>In 1947, Andy Dufresne (Tim Robbins), a banker...</td>\n",
       "      <td>chronicles experiences formerly successful ban...</td>\n",
       "      <td>yes spoilers herethis film emotional impact fi...</td>\n",
       "    </tr>\n",
       "    <tr>\n",
       "      <th>4</th>\n",
       "      <td>4</td>\n",
       "      <td>20 May 2004</td>\n",
       "      <td>tt0111161</td>\n",
       "      <td>ur0226855</td>\n",
       "      <td>True</td>\n",
       "      <td>At the heart of this extraordinary movie is a ...</td>\n",
       "      <td>8.0</td>\n",
       "      <td>Great story, wondrously told and acted</td>\n",
       "      <td>Chronicles the experiences of a formerly succe...</td>\n",
       "      <td>2h 22min</td>\n",
       "      <td>['Crime', 'Drama']</td>\n",
       "      <td>9.3</td>\n",
       "      <td>1994-10-14</td>\n",
       "      <td>In 1947, Andy Dufresne (Tim Robbins), a banker...</td>\n",
       "      <td>chronicles experiences formerly successful ban...</td>\n",
       "      <td>heart extraordinary movie brilliant indelible ...</td>\n",
       "    </tr>\n",
       "  </tbody>\n",
       "</table>\n",
       "</div>"
      ],
      "text/plain": [
       "   Unnamed: 0       review_date   movie_id    user_id is_spoiler  \\\n",
       "0           0  10 February 2006  tt0111161  ur1898687       True   \n",
       "1           1  6 September 2000  tt0111161  ur0842118       True   \n",
       "2           2     3 August 2001  tt0111161  ur1285640       True   \n",
       "3           3  1 September 2002  tt0111161  ur1003471       True   \n",
       "4           4       20 May 2004  tt0111161  ur0226855       True   \n",
       "\n",
       "                                         review_text  rating_x  \\\n",
       "0  In its Oscar year, Shawshank Redemption (writt...      10.0   \n",
       "1  The Shawshank Redemption is without a doubt on...      10.0   \n",
       "2  I believe that this film is the best story eve...       8.0   \n",
       "3  **Yes, there are SPOILERS here**This film has ...      10.0   \n",
       "4  At the heart of this extraordinary movie is a ...       8.0   \n",
       "\n",
       "                                  review_summary  \\\n",
       "0  A classic piece of unforgettable film-making.   \n",
       "1     Simply amazing. The best film of the 90's.   \n",
       "2               The best story ever told on film   \n",
       "3                     Busy dying or busy living?   \n",
       "4         Great story, wondrously told and acted   \n",
       "\n",
       "                                        plot_summary  duration  \\\n",
       "0  Chronicles the experiences of a formerly succe...  2h 22min   \n",
       "1  Chronicles the experiences of a formerly succe...  2h 22min   \n",
       "2  Chronicles the experiences of a formerly succe...  2h 22min   \n",
       "3  Chronicles the experiences of a formerly succe...  2h 22min   \n",
       "4  Chronicles the experiences of a formerly succe...  2h 22min   \n",
       "\n",
       "                genre  rating_y release_date  \\\n",
       "0  ['Crime', 'Drama']       9.3   1994-10-14   \n",
       "1  ['Crime', 'Drama']       9.3   1994-10-14   \n",
       "2  ['Crime', 'Drama']       9.3   1994-10-14   \n",
       "3  ['Crime', 'Drama']       9.3   1994-10-14   \n",
       "4  ['Crime', 'Drama']       9.3   1994-10-14   \n",
       "\n",
       "                                       plot_synopsis  \\\n",
       "0  In 1947, Andy Dufresne (Tim Robbins), a banker...   \n",
       "1  In 1947, Andy Dufresne (Tim Robbins), a banker...   \n",
       "2  In 1947, Andy Dufresne (Tim Robbins), a banker...   \n",
       "3  In 1947, Andy Dufresne (Tim Robbins), a banker...   \n",
       "4  In 1947, Andy Dufresne (Tim Robbins), a banker...   \n",
       "\n",
       "                                   cleaned_summaries  \\\n",
       "0  chronicles experiences formerly successful ban...   \n",
       "1  chronicles experiences formerly successful ban...   \n",
       "2  chronicles experiences formerly successful ban...   \n",
       "3  chronicles experiences formerly successful ban...   \n",
       "4  chronicles experiences formerly successful ban...   \n",
       "\n",
       "                                     cleaned_reviews  \n",
       "0  oscar year shawshank redemption written direct...  \n",
       "1  shawshank redemption without doubt one brillia...  \n",
       "2  believe film best story ever told film tell wh...  \n",
       "3  yes spoilers herethis film emotional impact fi...  \n",
       "4  heart extraordinary movie brilliant indelible ...  "
      ]
     },
     "execution_count": 10,
     "metadata": {},
     "output_type": "execute_result"
    }
   ],
   "source": [
    "full_df.head()"
   ]
  },
  {
   "cell_type": "code",
   "execution_count": 11,
   "id": "ae516a56",
   "metadata": {},
   "outputs": [],
   "source": [
    "df_mini = full_df.sample(500) # Small Size to test out functions"
   ]
  },
  {
   "cell_type": "code",
   "execution_count": 12,
   "id": "cf2fadc5",
   "metadata": {},
   "outputs": [
    {
     "data": {
      "text/html": [
       "<div>\n",
       "<style scoped>\n",
       "    .dataframe tbody tr th:only-of-type {\n",
       "        vertical-align: middle;\n",
       "    }\n",
       "\n",
       "    .dataframe tbody tr th {\n",
       "        vertical-align: top;\n",
       "    }\n",
       "\n",
       "    .dataframe thead th {\n",
       "        text-align: right;\n",
       "    }\n",
       "</style>\n",
       "<table border=\"1\" class=\"dataframe\">\n",
       "  <thead>\n",
       "    <tr style=\"text-align: right;\">\n",
       "      <th></th>\n",
       "      <th>Unnamed: 0</th>\n",
       "      <th>review_date</th>\n",
       "      <th>movie_id</th>\n",
       "      <th>user_id</th>\n",
       "      <th>is_spoiler</th>\n",
       "      <th>review_text</th>\n",
       "      <th>rating_x</th>\n",
       "      <th>review_summary</th>\n",
       "      <th>plot_summary</th>\n",
       "      <th>duration</th>\n",
       "      <th>genre</th>\n",
       "      <th>rating_y</th>\n",
       "      <th>release_date</th>\n",
       "      <th>plot_synopsis</th>\n",
       "      <th>cleaned_summaries</th>\n",
       "      <th>cleaned_reviews</th>\n",
       "    </tr>\n",
       "  </thead>\n",
       "  <tbody>\n",
       "    <tr>\n",
       "      <th>562257</th>\n",
       "      <td>562257</td>\n",
       "      <td>31 August 2005</td>\n",
       "      <td>tt0172493</td>\n",
       "      <td>ur0989035</td>\n",
       "      <td>False</td>\n",
       "      <td>After being touched by the sensitive film \"Hea...</td>\n",
       "      <td>7.0</td>\n",
       "      <td>Director James Mangold hits a slight interrupt...</td>\n",
       "      <td>Unable to cope with reality and the difficulty...</td>\n",
       "      <td>2h 7min</td>\n",
       "      <td>['Biography', 'Drama']</td>\n",
       "      <td>7.4</td>\n",
       "      <td>2000-01-14</td>\n",
       "      <td>\"Maybe I really was crazy. Maybe it was the 60...</td>\n",
       "      <td>unable cope reality difficulty comes year old ...</td>\n",
       "      <td>touched sensitive film heavy could wait see wo...</td>\n",
       "    </tr>\n",
       "    <tr>\n",
       "      <th>536258</th>\n",
       "      <td>536258</td>\n",
       "      <td>10 January 2005</td>\n",
       "      <td>tt0119396</td>\n",
       "      <td>ur2082018</td>\n",
       "      <td>False</td>\n",
       "      <td>Quentin Tarantino follow up to the hysterical ...</td>\n",
       "      <td>8.0</td>\n",
       "      <td>Tarantino grows up</td>\n",
       "      <td>The middle-aged stewardess Jackie Brown smuggl...</td>\n",
       "      <td>2h 34min</td>\n",
       "      <td>['Crime', 'Drama', 'Thriller']</td>\n",
       "      <td>7.5</td>\n",
       "      <td>1997-12-25</td>\n",
       "      <td>Los Angeles,1995. Jackie Brown (Pam Grier) is ...</td>\n",
       "      <td>middleaged stewardess jackie brown smuggles mo...</td>\n",
       "      <td>quentin tarantino follow hysterical response g...</td>\n",
       "    </tr>\n",
       "    <tr>\n",
       "      <th>92728</th>\n",
       "      <td>92728</td>\n",
       "      <td>23 July 2017</td>\n",
       "      <td>tt2119532</td>\n",
       "      <td>ur55428015</td>\n",
       "      <td>False</td>\n",
       "      <td>This movie reached my heart and soul which is ...</td>\n",
       "      <td>10.0</td>\n",
       "      <td>Masterpiece</td>\n",
       "      <td>The true story of Desmond T. Doss, the conscie...</td>\n",
       "      <td>2h 19min</td>\n",
       "      <td>['Biography', 'Drama', 'History']</td>\n",
       "      <td>8.2</td>\n",
       "      <td>2016-11-04</td>\n",
       "      <td>The film starts with very VERY graphic, viscer...</td>\n",
       "      <td>true story desmond doss conscientious objector...</td>\n",
       "      <td>movie reached heart soul extraordinary ability...</td>\n",
       "    </tr>\n",
       "    <tr>\n",
       "      <th>454128</th>\n",
       "      <td>454128</td>\n",
       "      <td>9 April 2010</td>\n",
       "      <td>tt0441773</td>\n",
       "      <td>ur22879123</td>\n",
       "      <td>True</td>\n",
       "      <td>When I realized that I don't like so much cart...</td>\n",
       "      <td>8.0</td>\n",
       "      <td>Attracting funny and wise</td>\n",
       "      <td>It's the story about a lazy, irreverent slacke...</td>\n",
       "      <td>1h 32min</td>\n",
       "      <td>['Animation', 'Action', 'Adventure']</td>\n",
       "      <td>7.6</td>\n",
       "      <td>2008-06-06</td>\n",
       "      <td>\"Legend tells of a legendary warrior whose kun...</td>\n",
       "      <td>story lazy irreverent slacker panda named po b...</td>\n",
       "      <td>realized like much cartoons watch maybe one se...</td>\n",
       "    </tr>\n",
       "    <tr>\n",
       "      <th>424101</th>\n",
       "      <td>424101</td>\n",
       "      <td>7 June 2006</td>\n",
       "      <td>tt0452594</td>\n",
       "      <td>ur10948076</td>\n",
       "      <td>False</td>\n",
       "      <td>I have to admit I went in to the theater to wa...</td>\n",
       "      <td>7.0</td>\n",
       "      <td>Good examination or a breakup</td>\n",
       "      <td>In Chicago, the art dealer Brooke Meyers feels...</td>\n",
       "      <td>1h 46min</td>\n",
       "      <td>['Comedy', 'Drama', 'Romance']</td>\n",
       "      <td>5.8</td>\n",
       "      <td>2006-06-02</td>\n",
       "      <td>Gary Grobowski (Vince Vaughn) and Brooke Meyer...</td>\n",
       "      <td>chicago art dealer brooke meyers feels appreci...</td>\n",
       "      <td>admit went theater watch breakup without high ...</td>\n",
       "    </tr>\n",
       "  </tbody>\n",
       "</table>\n",
       "</div>"
      ],
      "text/plain": [
       "        Unnamed: 0      review_date   movie_id     user_id is_spoiler  \\\n",
       "562257      562257   31 August 2005  tt0172493   ur0989035      False   \n",
       "536258      536258  10 January 2005  tt0119396   ur2082018      False   \n",
       "92728        92728     23 July 2017  tt2119532  ur55428015      False   \n",
       "454128      454128     9 April 2010  tt0441773  ur22879123       True   \n",
       "424101      424101      7 June 2006  tt0452594  ur10948076      False   \n",
       "\n",
       "                                              review_text  rating_x  \\\n",
       "562257  After being touched by the sensitive film \"Hea...       7.0   \n",
       "536258  Quentin Tarantino follow up to the hysterical ...       8.0   \n",
       "92728   This movie reached my heart and soul which is ...      10.0   \n",
       "454128  When I realized that I don't like so much cart...       8.0   \n",
       "424101  I have to admit I went in to the theater to wa...       7.0   \n",
       "\n",
       "                                           review_summary  \\\n",
       "562257  Director James Mangold hits a slight interrupt...   \n",
       "536258                                 Tarantino grows up   \n",
       "92728                                         Masterpiece   \n",
       "454128                          Attracting funny and wise   \n",
       "424101                      Good examination or a breakup   \n",
       "\n",
       "                                             plot_summary  duration  \\\n",
       "562257  Unable to cope with reality and the difficulty...   2h 7min   \n",
       "536258  The middle-aged stewardess Jackie Brown smuggl...  2h 34min   \n",
       "92728   The true story of Desmond T. Doss, the conscie...  2h 19min   \n",
       "454128  It's the story about a lazy, irreverent slacke...  1h 32min   \n",
       "424101  In Chicago, the art dealer Brooke Meyers feels...  1h 46min   \n",
       "\n",
       "                                       genre  rating_y release_date  \\\n",
       "562257                ['Biography', 'Drama']       7.4   2000-01-14   \n",
       "536258        ['Crime', 'Drama', 'Thriller']       7.5   1997-12-25   \n",
       "92728      ['Biography', 'Drama', 'History']       8.2   2016-11-04   \n",
       "454128  ['Animation', 'Action', 'Adventure']       7.6   2008-06-06   \n",
       "424101        ['Comedy', 'Drama', 'Romance']       5.8   2006-06-02   \n",
       "\n",
       "                                            plot_synopsis  \\\n",
       "562257  \"Maybe I really was crazy. Maybe it was the 60...   \n",
       "536258  Los Angeles,1995. Jackie Brown (Pam Grier) is ...   \n",
       "92728   The film starts with very VERY graphic, viscer...   \n",
       "454128  \"Legend tells of a legendary warrior whose kun...   \n",
       "424101  Gary Grobowski (Vince Vaughn) and Brooke Meyer...   \n",
       "\n",
       "                                        cleaned_summaries  \\\n",
       "562257  unable cope reality difficulty comes year old ...   \n",
       "536258  middleaged stewardess jackie brown smuggles mo...   \n",
       "92728   true story desmond doss conscientious objector...   \n",
       "454128  story lazy irreverent slacker panda named po b...   \n",
       "424101  chicago art dealer brooke meyers feels appreci...   \n",
       "\n",
       "                                          cleaned_reviews  \n",
       "562257  touched sensitive film heavy could wait see wo...  \n",
       "536258  quentin tarantino follow hysterical response g...  \n",
       "92728   movie reached heart soul extraordinary ability...  \n",
       "454128  realized like much cartoons watch maybe one se...  \n",
       "424101  admit went theater watch breakup without high ...  "
      ]
     },
     "execution_count": 12,
     "metadata": {},
     "output_type": "execute_result"
    }
   ],
   "source": [
    "df_mini.head()"
   ]
  },
  {
   "cell_type": "code",
   "execution_count": 13,
   "id": "eaee2f83",
   "metadata": {},
   "outputs": [],
   "source": [
    "EMB_DIM = 300\n",
    "vocab = set()\n",
    "word_to_id = dict()\n",
    "id_to_word = dict()\n",
    "word_to_count = dict()\n",
    "vocab_size = 1"
   ]
  },
  {
   "cell_type": "code",
   "execution_count": 14,
   "id": "256156d4",
   "metadata": {},
   "outputs": [],
   "source": [
    "max_len = 30 # placeholder value"
   ]
  },
  {
   "cell_type": "code",
   "execution_count": 15,
   "id": "1e644564",
   "metadata": {},
   "outputs": [],
   "source": [
    "# cols = ['cleaned_reviews', 'cleaned_summaries'] # Use if you want vocab to include plot summaries\n",
    "cols = ['cleaned_reviews'] # Use if you want vocab to include just review text"
   ]
  },
  {
   "cell_type": "markdown",
   "id": "ad6e49ef",
   "metadata": {},
   "source": [
    "### Generate Vocabulary"
   ]
  },
  {
   "cell_type": "code",
   "execution_count": 17,
   "id": "644f0ce8",
   "metadata": {},
   "outputs": [],
   "source": [
    "def generate_vocab(cols):\n",
    "    \n",
    "    global vocab_size, vocab\n",
    "    global word_to_id, id_to_word, word_to_count\n",
    "    global full_df\n",
    "    global df_mini\n",
    "    cleaned_reviews_ids = []\n",
    "    cleaned_summaries_ids = []\n",
    "    \n",
    "    for index, row in full_df.iterrows():\n",
    "        \n",
    "        for c in cols:\n",
    "            \n",
    "            s2n = []\n",
    "            split = row[c].split()\n",
    "            \n",
    "            for word in split:\n",
    "                \n",
    "                if word not in vocab:\n",
    "                    vocab.add(word)\n",
    "                    word_to_id[word] = vocab_size\n",
    "                    # word_to_count[word] = 1\n",
    "                    s2n.append(vocab_size)\n",
    "                    id_to_word[vocab_size] = word\n",
    "                    vocab_size += 1\n",
    "                    \n",
    "                else:\n",
    "                    # word_to_count[word] += 1\n",
    "                    s2n.append(word_to_id[word])\n",
    "                    \n",
    "            \n",
    "            full_df.at[index, c] = s2n\n",
    "            "
   ]
  },
  {
   "cell_type": "code",
   "execution_count": 19,
   "id": "7b42c49d",
   "metadata": {},
   "outputs": [
    {
     "name": "stdout",
     "output_type": "stream",
     "text": [
      "100.90569996833801\n"
     ]
    }
   ],
   "source": [
    "# Takes about 100 seconds with just cleaned reviews column, will take longer if you include cleaned summaries\n",
    "start = time.time()\n",
    "generate_vocab(cols)\n",
    "print(time.time() - start)"
   ]
  },
  {
   "cell_type": "code",
   "execution_count": 20,
   "id": "014f8edd",
   "metadata": {},
   "outputs": [
    {
     "name": "stdout",
     "output_type": "stream",
     "text": [
      "1085160\n"
     ]
    }
   ],
   "source": [
    "print(len(vocab))"
   ]
  },
  {
   "cell_type": "code",
   "execution_count": 25,
   "id": "98ca9a64",
   "metadata": {},
   "outputs": [
    {
     "data": {
      "text/html": [
       "<div>\n",
       "<style scoped>\n",
       "    .dataframe tbody tr th:only-of-type {\n",
       "        vertical-align: middle;\n",
       "    }\n",
       "\n",
       "    .dataframe tbody tr th {\n",
       "        vertical-align: top;\n",
       "    }\n",
       "\n",
       "    .dataframe thead th {\n",
       "        text-align: right;\n",
       "    }\n",
       "</style>\n",
       "<table border=\"1\" class=\"dataframe\">\n",
       "  <thead>\n",
       "    <tr style=\"text-align: right;\">\n",
       "      <th></th>\n",
       "      <th>Unnamed: 0</th>\n",
       "      <th>review_date</th>\n",
       "      <th>movie_id</th>\n",
       "      <th>user_id</th>\n",
       "      <th>is_spoiler</th>\n",
       "      <th>review_text</th>\n",
       "      <th>rating_x</th>\n",
       "      <th>review_summary</th>\n",
       "      <th>plot_summary</th>\n",
       "      <th>duration</th>\n",
       "      <th>genre</th>\n",
       "      <th>rating_y</th>\n",
       "      <th>release_date</th>\n",
       "      <th>plot_synopsis</th>\n",
       "      <th>cleaned_summaries</th>\n",
       "      <th>cleaned_reviews</th>\n",
       "    </tr>\n",
       "  </thead>\n",
       "  <tbody>\n",
       "    <tr>\n",
       "      <th>0</th>\n",
       "      <td>0</td>\n",
       "      <td>10 February 2006</td>\n",
       "      <td>tt0111161</td>\n",
       "      <td>ur1898687</td>\n",
       "      <td>True</td>\n",
       "      <td>In its Oscar year, Shawshank Redemption (writt...</td>\n",
       "      <td>10.0</td>\n",
       "      <td>A classic piece of unforgettable film-making.</td>\n",
       "      <td>Chronicles the experiences of a formerly succe...</td>\n",
       "      <td>2h 22min</td>\n",
       "      <td>['Crime', 'Drama']</td>\n",
       "      <td>9.3</td>\n",
       "      <td>1994-10-14</td>\n",
       "      <td>In 1947, Andy Dufresne (Tim Robbins), a banker...</td>\n",
       "      <td>chronicles experiences formerly successful ban...</td>\n",
       "      <td>[1, 2, 3, 4, 5, 6, 7, 8, 9, 10, 11, 3, 4, 12, ...</td>\n",
       "    </tr>\n",
       "    <tr>\n",
       "      <th>1</th>\n",
       "      <td>1</td>\n",
       "      <td>6 September 2000</td>\n",
       "      <td>tt0111161</td>\n",
       "      <td>ur0842118</td>\n",
       "      <td>True</td>\n",
       "      <td>The Shawshank Redemption is without a doubt on...</td>\n",
       "      <td>10.0</td>\n",
       "      <td>Simply amazing. The best film of the 90's.</td>\n",
       "      <td>Chronicles the experiences of a formerly succe...</td>\n",
       "      <td>2h 22min</td>\n",
       "      <td>['Crime', 'Drama']</td>\n",
       "      <td>9.3</td>\n",
       "      <td>1994-10-14</td>\n",
       "      <td>In 1947, Andy Dufresne (Tim Robbins), a banker...</td>\n",
       "      <td>chronicles experiences formerly successful ban...</td>\n",
       "      <td>[3, 4, 321, 322, 187, 323, 190, 324, 309, 325,...</td>\n",
       "    </tr>\n",
       "    <tr>\n",
       "      <th>2</th>\n",
       "      <td>2</td>\n",
       "      <td>3 August 2001</td>\n",
       "      <td>tt0111161</td>\n",
       "      <td>ur1285640</td>\n",
       "      <td>True</td>\n",
       "      <td>I believe that this film is the best story eve...</td>\n",
       "      <td>8.0</td>\n",
       "      <td>The best story ever told on film</td>\n",
       "      <td>Chronicles the experiences of a formerly succe...</td>\n",
       "      <td>2h 22min</td>\n",
       "      <td>['Crime', 'Drama']</td>\n",
       "      <td>9.3</td>\n",
       "      <td>1994-10-14</td>\n",
       "      <td>In 1947, Andy Dufresne (Tim Robbins), a banker...</td>\n",
       "      <td>chronicles experiences formerly successful ban...</td>\n",
       "      <td>[385, 35, 21, 94, 324, 386, 35, 387, 388, 81, ...</td>\n",
       "    </tr>\n",
       "    <tr>\n",
       "      <th>3</th>\n",
       "      <td>3</td>\n",
       "      <td>1 September 2002</td>\n",
       "      <td>tt0111161</td>\n",
       "      <td>ur1003471</td>\n",
       "      <td>True</td>\n",
       "      <td>**Yes, there are SPOILERS here**This film has ...</td>\n",
       "      <td>10.0</td>\n",
       "      <td>Busy dying or busy living?</td>\n",
       "      <td>Chronicles the experiences of a formerly succe...</td>\n",
       "      <td>2h 22min</td>\n",
       "      <td>['Crime', 'Drama']</td>\n",
       "      <td>9.3</td>\n",
       "      <td>1994-10-14</td>\n",
       "      <td>In 1947, Andy Dufresne (Tim Robbins), a banker...</td>\n",
       "      <td>chronicles experiences formerly successful ban...</td>\n",
       "      <td>[466, 467, 468, 35, 469, 470, 471, 472, 473, 4...</td>\n",
       "    </tr>\n",
       "    <tr>\n",
       "      <th>4</th>\n",
       "      <td>4</td>\n",
       "      <td>20 May 2004</td>\n",
       "      <td>tt0111161</td>\n",
       "      <td>ur0226855</td>\n",
       "      <td>True</td>\n",
       "      <td>At the heart of this extraordinary movie is a ...</td>\n",
       "      <td>8.0</td>\n",
       "      <td>Great story, wondrously told and acted</td>\n",
       "      <td>Chronicles the experiences of a formerly succe...</td>\n",
       "      <td>2h 22min</td>\n",
       "      <td>['Crime', 'Drama']</td>\n",
       "      <td>9.3</td>\n",
       "      <td>1994-10-14</td>\n",
       "      <td>In 1947, Andy Dufresne (Tim Robbins), a banker...</td>\n",
       "      <td>chronicles experiences formerly successful ban...</td>\n",
       "      <td>[338, 638, 86, 323, 639, 640, 165, 166, 164, 4...</td>\n",
       "    </tr>\n",
       "  </tbody>\n",
       "</table>\n",
       "</div>"
      ],
      "text/plain": [
       "   Unnamed: 0       review_date   movie_id    user_id is_spoiler  \\\n",
       "0           0  10 February 2006  tt0111161  ur1898687       True   \n",
       "1           1  6 September 2000  tt0111161  ur0842118       True   \n",
       "2           2     3 August 2001  tt0111161  ur1285640       True   \n",
       "3           3  1 September 2002  tt0111161  ur1003471       True   \n",
       "4           4       20 May 2004  tt0111161  ur0226855       True   \n",
       "\n",
       "                                         review_text  rating_x  \\\n",
       "0  In its Oscar year, Shawshank Redemption (writt...      10.0   \n",
       "1  The Shawshank Redemption is without a doubt on...      10.0   \n",
       "2  I believe that this film is the best story eve...       8.0   \n",
       "3  **Yes, there are SPOILERS here**This film has ...      10.0   \n",
       "4  At the heart of this extraordinary movie is a ...       8.0   \n",
       "\n",
       "                                  review_summary  \\\n",
       "0  A classic piece of unforgettable film-making.   \n",
       "1     Simply amazing. The best film of the 90's.   \n",
       "2               The best story ever told on film   \n",
       "3                     Busy dying or busy living?   \n",
       "4         Great story, wondrously told and acted   \n",
       "\n",
       "                                        plot_summary  duration  \\\n",
       "0  Chronicles the experiences of a formerly succe...  2h 22min   \n",
       "1  Chronicles the experiences of a formerly succe...  2h 22min   \n",
       "2  Chronicles the experiences of a formerly succe...  2h 22min   \n",
       "3  Chronicles the experiences of a formerly succe...  2h 22min   \n",
       "4  Chronicles the experiences of a formerly succe...  2h 22min   \n",
       "\n",
       "                genre  rating_y release_date  \\\n",
       "0  ['Crime', 'Drama']       9.3   1994-10-14   \n",
       "1  ['Crime', 'Drama']       9.3   1994-10-14   \n",
       "2  ['Crime', 'Drama']       9.3   1994-10-14   \n",
       "3  ['Crime', 'Drama']       9.3   1994-10-14   \n",
       "4  ['Crime', 'Drama']       9.3   1994-10-14   \n",
       "\n",
       "                                       plot_synopsis  \\\n",
       "0  In 1947, Andy Dufresne (Tim Robbins), a banker...   \n",
       "1  In 1947, Andy Dufresne (Tim Robbins), a banker...   \n",
       "2  In 1947, Andy Dufresne (Tim Robbins), a banker...   \n",
       "3  In 1947, Andy Dufresne (Tim Robbins), a banker...   \n",
       "4  In 1947, Andy Dufresne (Tim Robbins), a banker...   \n",
       "\n",
       "                                   cleaned_summaries  \\\n",
       "0  chronicles experiences formerly successful ban...   \n",
       "1  chronicles experiences formerly successful ban...   \n",
       "2  chronicles experiences formerly successful ban...   \n",
       "3  chronicles experiences formerly successful ban...   \n",
       "4  chronicles experiences formerly successful ban...   \n",
       "\n",
       "                                     cleaned_reviews  \n",
       "0  [1, 2, 3, 4, 5, 6, 7, 8, 9, 10, 11, 3, 4, 12, ...  \n",
       "1  [3, 4, 321, 322, 187, 323, 190, 324, 309, 325,...  \n",
       "2  [385, 35, 21, 94, 324, 386, 35, 387, 388, 81, ...  \n",
       "3  [466, 467, 468, 35, 469, 470, 471, 472, 473, 4...  \n",
       "4  [338, 638, 86, 323, 639, 640, 165, 166, 164, 4...  "
      ]
     },
     "execution_count": 25,
     "metadata": {},
     "output_type": "execute_result"
    }
   ],
   "source": [
    "full_df.head()"
   ]
  },
  {
   "cell_type": "code",
   "execution_count": 26,
   "id": "32743647",
   "metadata": {},
   "outputs": [],
   "source": [
    "X_train = []\n",
    "y_train = []\n",
    "X_test = []\n",
    "y_test = []\n",
    "X_val = []\n",
    "y_val = []"
   ]
  },
  {
   "cell_type": "markdown",
   "id": "da615a7b",
   "metadata": {},
   "source": [
    "### Split data into training, testing, and validation"
   ]
  },
  {
   "cell_type": "code",
   "execution_count": 33,
   "id": "5296f82a",
   "metadata": {},
   "outputs": [
    {
     "data": {
      "text/plain": [
       "0"
      ]
     },
     "execution_count": 33,
     "metadata": {},
     "output_type": "execute_result"
    }
   ],
   "source": [
    "full_df['is_spoiler'] = full_df['is_spoiler'].fillna(0)\n",
    "full_df['is_spoiler'].isna().sum()"
   ]
  },
  {
   "cell_type": "code",
   "execution_count": 34,
   "id": "f41237f0",
   "metadata": {},
   "outputs": [],
   "source": [
    "def split_data(cols):\n",
    "    \n",
    "    global X_train, y_train\n",
    "    global X_test, y_test\n",
    "    global X_val, y_val\n",
    "    \n",
    "    train_ratio = 0.8 # Split into training and validation\n",
    "    test_ratio = 0.85 # Split into training and testing\n",
    "    \n",
    "    X = list(full_df['cleaned_reviews'])\n",
    "    y = list(full_df['is_spoiler'].astype(int))\n",
    "    \n",
    "    X_rem, X_test, y_rem, y_test = train_test_split(X, y, train_size=test_ratio)\n",
    "    X_train, X_val, y_train, y_val = train_test_split(X_rem, y_rem, train_size=train_ratio)\n",
    "    \n",
    "    # X_train = [X_train[c] for c in cols]\n",
    "    # X_val = [X_val[c] for c in cols]\n",
    "    # X_test = [X_test[c] for c in cols]\n",
    "    \n",
    "    # y_train = y_train.values\n",
    "    # y_test = y_test.values\n",
    "    # y_val = y_val.values"
   ]
  },
  {
   "cell_type": "code",
   "execution_count": 35,
   "id": "c2885395",
   "metadata": {},
   "outputs": [
    {
     "name": "stdout",
     "output_type": "stream",
     "text": [
      "0.7105481624603271\n"
     ]
    }
   ],
   "source": [
    "start = time.time()\n",
    "split_data(cols)\n",
    "print(time.time() - start)"
   ]
  },
  {
   "cell_type": "code",
   "execution_count": 36,
   "id": "f38fd73e",
   "metadata": {},
   "outputs": [
    {
     "name": "stdout",
     "output_type": "stream",
     "text": [
      "390261 390261 86088 86088\n"
     ]
    }
   ],
   "source": [
    "print(len(X_train), len(y_train), len(X_test), len(y_test))"
   ]
  },
  {
   "cell_type": "code",
   "execution_count": 37,
   "id": "72c007de",
   "metadata": {},
   "outputs": [],
   "source": [
    "def pad_sequences(X_list):\n",
    "    \n",
    "    X_padded = torch.nn.utils.rnn.pad_sequence([torch.as_tensor(l) for l in X_list]).type(torch.LongTensor) # padding the sequences with 0\n",
    "    X_mask   = torch.nn.utils.rnn.pad_sequence([torch.as_tensor([1.0] * len(l)) for l in X_list]).type(torch.FloatTensor)\n",
    "    \n",
    "    return X_padded, X_mask"
   ]
  },
  {
   "cell_type": "code",
   "execution_count": 39,
   "id": "bcde3ae5",
   "metadata": {},
   "outputs": [
    {
     "name": "stdout",
     "output_type": "stream",
     "text": [
      "16.928745985031128\n"
     ]
    }
   ],
   "source": [
    "# Takes about 20 seconds to run\n",
    "start = time.time()\n",
    "X_train = pad_sequences(X_train)[0]\n",
    "print(time.time() - start)"
   ]
  },
  {
   "cell_type": "markdown",
   "id": "97fcce9f",
   "metadata": {},
   "source": [
    "### Get Glove embeddings dictionary"
   ]
  },
  {
   "cell_type": "code",
   "execution_count": 40,
   "id": "3f7422c5",
   "metadata": {},
   "outputs": [],
   "source": [
    "# Read GloVe embeddings.\n",
    "def read_GloVe(filename):\n",
    "    \n",
    "    embeddings = {}\n",
    "    for line in open(filename).readlines():\n",
    "        #print(line)\n",
    "        fields = line.strip().split(\" \")\n",
    "        word = fields[0]\n",
    "        embeddings[word] = [float(x) for x in fields[1:]]\n",
    "        \n",
    "    return embeddings"
   ]
  },
  {
   "cell_type": "code",
   "execution_count": 42,
   "id": "01a2e59e",
   "metadata": {},
   "outputs": [
    {
     "name": "stdout",
     "output_type": "stream",
     "text": [
      "[0.04656, 0.21318, -0.0074364, -0.45854, -0.035639, 0.23643, -0.28836, 0.21521, -0.13486, -1.6413, -0.26091, 0.032434, 0.056621, -0.043296, -0.021672, 0.22476, -0.075129, -0.067018, -0.14247, 0.038825, -0.18951, 0.29977, 0.39305, 0.17887, -0.17343, -0.21178, 0.23617, -0.063681, -0.42318, -0.11661, 0.093754, 0.17296, -0.33073, 0.49112, -0.68995, -0.092462, 0.24742, -0.17991, 0.097908, 0.083118, 0.15299, -0.27276, -0.038934, 0.54453, 0.53737, 0.29105, -0.0073514, 0.04788, -0.4076, -0.026759, 0.17919, 0.010977, -0.10963, -0.26395, 0.07399, 0.26236, -0.1508, 0.34623, 0.25758, 0.11971, -0.037135, -0.071593, 0.43898, -0.040764, 0.016425, -0.4464, 0.17197, 0.046246, 0.058639, 0.041499, 0.53948, 0.52495, 0.11361, -0.048315, -0.36385, 0.18704, 0.092761, -0.11129, -0.42085, 0.13992, -0.39338, -0.067945, 0.12188, 0.16707, 0.075169, -0.015529, -0.19499, 0.19638, 0.053194, 0.2517, -0.34845, -0.10638, -0.34692, -0.19024, -0.2004, 0.12154, -0.29208, 0.023353, -0.11618, -0.35768, 0.062304, 0.35884, 0.02906, 0.0073005, 0.0049482, -0.15048, -0.12313, 0.19337, 0.12173, 0.44503, 0.25147, 0.10781, -0.17716, 0.038691, 0.08153, 0.14667, 0.063666, 0.061332, -0.075569, -0.37724, 0.01585, -0.30342, 0.28374, -0.042013, -0.040715, -0.15269, 0.07498, 0.15577, 0.10433, 0.31393, 0.19309, 0.19429, 0.15185, -0.10192, -0.018785, 0.20791, 0.13366, 0.19038, -0.25558, 0.304, -0.01896, 0.20147, -0.4211, -0.0075156, -0.27977, -0.19314, 0.046204, 0.19971, -0.30207, 0.25735, 0.68107, -0.19409, 0.23984, 0.22493, 0.65224, -0.13561, -0.17383, -0.048209, -0.1186, 0.0021588, -0.019525, 0.11948, 0.19346, -0.4082, -0.082966, 0.16626, -0.10601, 0.35861, 0.16922, 0.07259, -0.24803, -0.10024, -0.52491, -0.17745, -0.36647, 0.2618, -0.012077, 0.08319, -0.21528, 0.41045, 0.29136, 0.30869, 0.078864, 0.32207, -0.041023, -0.1097, -0.092041, -0.12339, -0.16416, 0.35382, -0.082774, 0.33171, -0.24738, -0.048928, 0.15746, 0.18988, -0.026642, 0.063315, -0.010673, 0.34089, 1.4106, 0.13417, 0.28191, -0.2594, 0.055267, -0.052425, -0.25789, 0.019127, -0.022084, 0.32113, 0.068818, 0.51207, 0.16478, -0.20194, 0.29232, 0.098575, 0.013145, -0.10652, 0.1351, -0.045332, 0.20697, -0.48425, -0.44706, 0.0033305, 0.0029264, -0.10975, -0.23325, 0.22442, -0.10503, 0.12339, 0.10978, 0.048994, -0.25157, 0.40319, 0.35318, 0.18651, -0.023622, -0.12734, 0.11475, 0.27359, -0.21866, 0.015794, 0.81754, -0.023792, -0.85469, -0.16203, 0.18076, 0.028014, -0.1434, 0.0013139, -0.091735, -0.089704, 0.11105, -0.16703, 0.068377, -0.087388, -0.039789, 0.014184, 0.21187, 0.28579, -0.28797, -0.058996, -0.032436, -0.0047009, -0.17052, -0.034741, -0.11489, 0.075093, 0.099526, 0.048183, -0.073775, -0.41817, 0.0041268, 0.44414, -0.16062, 0.14294, -2.2628, -0.027347, 0.81311, 0.77417, -0.25639, -0.11576, -0.11982, -0.21363, 0.028429, 0.27261, 0.031026, 0.096782, 0.0067769, 0.14082, -0.013064, -0.29686, -0.079913, 0.195, 0.031549, 0.28506, -0.087461, 0.0090611, -0.20989, 0.053913]\n",
      "dimension of glove embedding: 300\n",
      "\n",
      "36.83537411689758\n"
     ]
    }
   ],
   "source": [
    "# Takes about 40 seconds to run\n",
    "start = time.time()\n",
    "GloVe = read_GloVe(\"../glove/glove.6B.300d.txt\")\n",
    "\n",
    "print(GloVe[\"the\"])\n",
    "print(\"dimension of glove embedding:\", len(GloVe[\"the\"]))\n",
    "print()\n",
    "print(time.time() - start)"
   ]
  },
  {
   "cell_type": "markdown",
   "id": "f95637e2",
   "metadata": {},
   "source": [
    "### Generate pretrained embeddings for our vocabulary"
   ]
  },
  {
   "cell_type": "code",
   "execution_count": 43,
   "id": "55aa8efb",
   "metadata": {},
   "outputs": [],
   "source": [
    "def init_glove(GloVe):\n",
    "    \n",
    "    global EMB_DIM\n",
    "    \n",
    "    pretrained = torch.zeros(max(word_to_id.values()) + 1, EMB_DIM)\n",
    "    scale = torch.sqrt(torch.Tensor([3.0 / EMB_DIM]))[0]\n",
    "    for word, i in word_to_id.items():\n",
    "        if word in GloVe:\n",
    "            pretrained[i] = torch.FloatTensor(GloVe[word])\n",
    "        else:\n",
    "            vect = torch.FloatTensor(EMB_DIM).uniform_(-scale, scale)\n",
    "            pretrained[i] = torch.FloatTensor(vect)\n",
    "\n",
    "    return pretrained"
   ]
  },
  {
   "cell_type": "code",
   "execution_count": 44,
   "id": "db7fbce9",
   "metadata": {},
   "outputs": [
    {
     "name": "stdout",
     "output_type": "stream",
     "text": [
      "15.289496183395386\n"
     ]
    }
   ],
   "source": [
    "# Takes about 15 seconds to run\n",
    "start = time.time()\n",
    "pretrained = init_glove(GloVe)\n",
    "print(time.time() - start)"
   ]
  },
  {
   "cell_type": "code",
   "execution_count": 45,
   "id": "225897b2",
   "metadata": {},
   "outputs": [
    {
     "data": {
      "text/plain": [
       "torch.Size([1085161, 300])"
      ]
     },
     "execution_count": 45,
     "metadata": {},
     "output_type": "execute_result"
    }
   ],
   "source": [
    "pretrained.shape"
   ]
  },
  {
   "cell_type": "code",
   "execution_count": null,
   "id": "ac15cbbf",
   "metadata": {},
   "outputs": [],
   "source": []
  }
 ],
 "metadata": {
  "kernelspec": {
   "display_name": "Python 3",
   "language": "python",
   "name": "python3"
  },
  "language_info": {
   "codemirror_mode": {
    "name": "ipython",
    "version": 3
   },
   "file_extension": ".py",
   "mimetype": "text/x-python",
   "name": "python",
   "nbconvert_exporter": "python",
   "pygments_lexer": "ipython3",
   "version": "3.8.8"
  }
 },
 "nbformat": 4,
 "nbformat_minor": 5
}
