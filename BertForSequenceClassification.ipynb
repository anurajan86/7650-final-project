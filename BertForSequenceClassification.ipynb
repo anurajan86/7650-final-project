{
  "nbformat": 4,
  "nbformat_minor": 0,
  "metadata": {
    "colab": {
      "name": "BertForSequenceClassification.ipynb",
      "provenance": [],
      "collapsed_sections": [],
      "machine_shape": "hm"
    },
    "kernelspec": {
      "name": "python3",
      "display_name": "Python 3"
    },
    "language_info": {
      "name": "python"
    },
    "accelerator": "GPU"
  },
  "cells": [
    {
      "cell_type": "code",
      "source": [
        "! pip install transformers datasets"
      ],
      "metadata": {
        "id": "cw1iT4TTucWy"
      },
      "execution_count": null,
      "outputs": []
    },
    {
      "cell_type": "code",
      "source": [
        "from google.colab import drive\n",
        "drive.mount('/content/drive', force_remount=True)"
      ],
      "metadata": {
        "id": "f4n1t3Is1Tzg"
      },
      "execution_count": null,
      "outputs": []
    },
    {
      "cell_type": "code",
      "execution_count": null,
      "metadata": {
        "id": "ub3JSJGUszqD"
      },
      "outputs": [],
      "source": [
        "from transformers import AutoModelForSequenceClassification, AutoTokenizer, TrainingArguments, Trainer\n",
        "from datasets import load_metric, load_dataset, Dataset\n",
        "import numpy as np"
      ]
    },
    {
      "cell_type": "code",
      "source": [
        "f1 = load_metric(\"f1\")\n",
        "roc_auc = load_metric(\"roc_auc\")\n",
        "recall = load_metric(\"recall\")\n",
        "prec = load_metric(\"precision\")\n",
        "roc_auc"
      ],
      "metadata": {
        "id": "_qgMarWE3TI6"
      },
      "execution_count": null,
      "outputs": []
    },
    {
      "cell_type": "code",
      "source": [
        "def compute_metrics(evals):\n",
        "    logits, labels = evals\n",
        "    preds = np.round(logits).astype(int)\n",
        "    return f1.compute(predictions=preds, references=labels)"
      ],
      "metadata": {
        "id": "SJ17r7my3hxv"
      },
      "execution_count": null,
      "outputs": []
    },
    {
      "cell_type": "code",
      "source": [
        "training_args = TrainingArguments(output_dir=\"test_trainer\",\n",
        "                                  num_train_epochs=2,\n",
        "                                  save_steps=5000,\n",
        "                                  eval_steps = 10000,\n",
        "                                  per_device_train_batch_size=16,\n",
        "                                  evaluation_strategy=\"steps\")"
      ],
      "metadata": {
        "id": "CHAQ_8wo432K"
      },
      "execution_count": null,
      "outputs": []
    },
    {
      "cell_type": "code",
      "source": [
        "import pandas as pd"
      ],
      "metadata": {
        "id": "NDIPjqiODrBQ"
      },
      "execution_count": null,
      "outputs": []
    },
    {
      "cell_type": "code",
      "source": [
        "df = pd.read_csv('/content/drive/MyDrive/7650_dataset/cleaned_reviews_summaries.zip')"
      ],
      "metadata": {
        "id": "qxmhEsRdDtaQ"
      },
      "execution_count": null,
      "outputs": []
    },
    {
      "cell_type": "code",
      "source": [
        "tokenizer = AutoTokenizer.from_pretrained(\"distilbert-base-uncased\")\n",
        "model = AutoModelForSequenceClassification.from_pretrained(\"distilbert-base-uncased\", num_labels=1)"
      ],
      "metadata": {
        "id": "vb8pa8y2vqW6"
      },
      "execution_count": null,
      "outputs": []
    },
    {
      "cell_type": "code",
      "source": [
        "# for name, param in model.named_parameters():\n",
        "#     if \"classifier\" not in name:\n",
        "#         param.requires_grad = False"
      ],
      "metadata": {
        "id": "UlpiBBa8SxXo"
      },
      "execution_count": null,
      "outputs": []
    },
    {
      "cell_type": "code",
      "source": [
        "df = df.dropna(axis=0)\n",
        "df[\"is_spoiler\"] = df[\"is_spoiler\"].astype(int) * 1."
      ],
      "metadata": {
        "id": "dpi7UYeuNKrs"
      },
      "execution_count": null,
      "outputs": []
    },
    {
      "cell_type": "code",
      "source": [
        "dataset = Dataset.from_pandas(df)\n",
        "del df\n",
        "dataset = dataset.shard(num_shards=2, index=0)\n",
        "dataset = dataset.rename_column(\"is_spoiler\", \"label\")\n",
        "dataset = dataset.map(lambda e: tokenizer(e[\"cleaned_reviews\"], truncation=True, padding=\"max_length\"), batched=True)\n",
        "dataset.set_format(type='torch', columns=['input_ids', 'attention_mask', 'label'])\n",
        "dataset = dataset.train_test_split(test_size=0.2)\n",
        "train_dataset, test_dataset = dataset[\"train\"], dataset[\"test\"]"
      ],
      "metadata": {
        "id": "fUvI7cGo6FII"
      },
      "execution_count": null,
      "outputs": []
    },
    {
      "cell_type": "code",
      "source": [
        "trainer = Trainer(\n",
        "    model=model,\n",
        "    args=training_args,\n",
        "    train_dataset=train_dataset,\n",
        "    eval_dataset=test_dataset,\n",
        "    compute_metrics=compute_metrics,\n",
        ")"
      ],
      "metadata": {
        "id": "PDsxeFgR7KaJ"
      },
      "execution_count": null,
      "outputs": []
    },
    {
      "cell_type": "code",
      "source": [
        "for name, param in model.named_parameters():\n",
        "    if param.requires_grad:\n",
        "        print(name)"
      ],
      "metadata": {
        "id": "pMW2hhRXHObb"
      },
      "execution_count": null,
      "outputs": []
    },
    {
      "cell_type": "code",
      "source": [
        "trainer.train()"
      ],
      "metadata": {
        "id": "Gz93padBDA-u"
      },
      "execution_count": null,
      "outputs": []
    }
  ]
}